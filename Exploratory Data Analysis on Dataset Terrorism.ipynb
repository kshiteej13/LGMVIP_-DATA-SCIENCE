{
 "cells": [
  {
   "cell_type": "markdown",
   "metadata": {},
   "source": [
    "# LGMVIP TASK-1\n",
    "# LEVEL-INTERMEDIATE\n",
    "# EXPLORATORY DATA ANALYSIS ON DATASET TERRORISM\n",
    "# OBJECTIVE - AS A SECURITY/DEFENCE ANALYST TRY TO FIND OUT THE HOT ZONE OF TERRORISM\n",
    "# AUTHOR - KSHITEEJ CHOURASIA"
   ]
  },
  {
   "cell_type": "markdown",
   "metadata": {},
   "source": [
    " IMPORTING NECESSARY LIBRARIES"
   ]
  },
  {
   "cell_type": "code",
   "execution_count": 1,
   "metadata": {},
   "outputs": [],
   "source": [
    "import numpy as np\n",
    "import pandas as pd\n",
    "import matplotlib.pyplot as plt\n",
    "%matplotlib inline\n",
    "import seaborn as sns\n",
    "import warnings\n",
    "warnings.filterwarnings('ignore')"
   ]
  },
  {
   "cell_type": "markdown",
   "metadata": {},
   "source": [
    "READING AND UNDERSTANDING THE DATASET"
   ]
  },
  {
   "cell_type": "code",
   "execution_count": 2,
   "metadata": {},
   "outputs": [
    {
     "data": {
      "text/html": [
       "<div>\n",
       "<style scoped>\n",
       "    .dataframe tbody tr th:only-of-type {\n",
       "        vertical-align: middle;\n",
       "    }\n",
       "\n",
       "    .dataframe tbody tr th {\n",
       "        vertical-align: top;\n",
       "    }\n",
       "\n",
       "    .dataframe thead th {\n",
       "        text-align: right;\n",
       "    }\n",
       "</style>\n",
       "<table border=\"1\" class=\"dataframe\">\n",
       "  <thead>\n",
       "    <tr style=\"text-align: right;\">\n",
       "      <th></th>\n",
       "      <th>eventid</th>\n",
       "      <th>iyear</th>\n",
       "      <th>imonth</th>\n",
       "      <th>iday</th>\n",
       "      <th>approxdate</th>\n",
       "      <th>extended</th>\n",
       "      <th>resolution</th>\n",
       "      <th>country</th>\n",
       "      <th>country_txt</th>\n",
       "      <th>region</th>\n",
       "      <th>...</th>\n",
       "      <th>addnotes</th>\n",
       "      <th>scite1</th>\n",
       "      <th>scite2</th>\n",
       "      <th>scite3</th>\n",
       "      <th>dbsource</th>\n",
       "      <th>INT_LOG</th>\n",
       "      <th>INT_IDEO</th>\n",
       "      <th>INT_MISC</th>\n",
       "      <th>INT_ANY</th>\n",
       "      <th>related</th>\n",
       "    </tr>\n",
       "  </thead>\n",
       "  <tbody>\n",
       "    <tr>\n",
       "      <th>0</th>\n",
       "      <td>197000000001</td>\n",
       "      <td>1970</td>\n",
       "      <td>7</td>\n",
       "      <td>2</td>\n",
       "      <td>NaN</td>\n",
       "      <td>0</td>\n",
       "      <td>NaN</td>\n",
       "      <td>58</td>\n",
       "      <td>Dominican Republic</td>\n",
       "      <td>2</td>\n",
       "      <td>...</td>\n",
       "      <td>NaN</td>\n",
       "      <td>NaN</td>\n",
       "      <td>NaN</td>\n",
       "      <td>NaN</td>\n",
       "      <td>PGIS</td>\n",
       "      <td>0</td>\n",
       "      <td>0</td>\n",
       "      <td>0</td>\n",
       "      <td>0</td>\n",
       "      <td>NaN</td>\n",
       "    </tr>\n",
       "    <tr>\n",
       "      <th>1</th>\n",
       "      <td>197000000002</td>\n",
       "      <td>1970</td>\n",
       "      <td>0</td>\n",
       "      <td>0</td>\n",
       "      <td>NaN</td>\n",
       "      <td>0</td>\n",
       "      <td>NaN</td>\n",
       "      <td>130</td>\n",
       "      <td>Mexico</td>\n",
       "      <td>1</td>\n",
       "      <td>...</td>\n",
       "      <td>NaN</td>\n",
       "      <td>NaN</td>\n",
       "      <td>NaN</td>\n",
       "      <td>NaN</td>\n",
       "      <td>PGIS</td>\n",
       "      <td>0</td>\n",
       "      <td>1</td>\n",
       "      <td>1</td>\n",
       "      <td>1</td>\n",
       "      <td>NaN</td>\n",
       "    </tr>\n",
       "    <tr>\n",
       "      <th>2</th>\n",
       "      <td>197001000001</td>\n",
       "      <td>1970</td>\n",
       "      <td>1</td>\n",
       "      <td>0</td>\n",
       "      <td>NaN</td>\n",
       "      <td>0</td>\n",
       "      <td>NaN</td>\n",
       "      <td>160</td>\n",
       "      <td>Philippines</td>\n",
       "      <td>5</td>\n",
       "      <td>...</td>\n",
       "      <td>NaN</td>\n",
       "      <td>NaN</td>\n",
       "      <td>NaN</td>\n",
       "      <td>NaN</td>\n",
       "      <td>PGIS</td>\n",
       "      <td>-9</td>\n",
       "      <td>-9</td>\n",
       "      <td>1</td>\n",
       "      <td>1</td>\n",
       "      <td>NaN</td>\n",
       "    </tr>\n",
       "    <tr>\n",
       "      <th>3</th>\n",
       "      <td>197001000002</td>\n",
       "      <td>1970</td>\n",
       "      <td>1</td>\n",
       "      <td>0</td>\n",
       "      <td>NaN</td>\n",
       "      <td>0</td>\n",
       "      <td>NaN</td>\n",
       "      <td>78</td>\n",
       "      <td>Greece</td>\n",
       "      <td>8</td>\n",
       "      <td>...</td>\n",
       "      <td>NaN</td>\n",
       "      <td>NaN</td>\n",
       "      <td>NaN</td>\n",
       "      <td>NaN</td>\n",
       "      <td>PGIS</td>\n",
       "      <td>-9</td>\n",
       "      <td>-9</td>\n",
       "      <td>1</td>\n",
       "      <td>1</td>\n",
       "      <td>NaN</td>\n",
       "    </tr>\n",
       "    <tr>\n",
       "      <th>4</th>\n",
       "      <td>197001000003</td>\n",
       "      <td>1970</td>\n",
       "      <td>1</td>\n",
       "      <td>0</td>\n",
       "      <td>NaN</td>\n",
       "      <td>0</td>\n",
       "      <td>NaN</td>\n",
       "      <td>101</td>\n",
       "      <td>Japan</td>\n",
       "      <td>4</td>\n",
       "      <td>...</td>\n",
       "      <td>NaN</td>\n",
       "      <td>NaN</td>\n",
       "      <td>NaN</td>\n",
       "      <td>NaN</td>\n",
       "      <td>PGIS</td>\n",
       "      <td>-9</td>\n",
       "      <td>-9</td>\n",
       "      <td>1</td>\n",
       "      <td>1</td>\n",
       "      <td>NaN</td>\n",
       "    </tr>\n",
       "  </tbody>\n",
       "</table>\n",
       "<p>5 rows × 135 columns</p>\n",
       "</div>"
      ],
      "text/plain": [
       "        eventid iyear imonth iday approxdate extended resolution country  \\\n",
       "0  197000000001  1970      7    2        NaN        0        NaN      58   \n",
       "1  197000000002  1970      0    0        NaN        0        NaN     130   \n",
       "2  197001000001  1970      1    0        NaN        0        NaN     160   \n",
       "3  197001000002  1970      1    0        NaN        0        NaN      78   \n",
       "4  197001000003  1970      1    0        NaN        0        NaN     101   \n",
       "\n",
       "          country_txt region  ... addnotes scite1 scite2 scite3 dbsource  \\\n",
       "0  Dominican Republic      2  ...      NaN    NaN    NaN    NaN     PGIS   \n",
       "1              Mexico      1  ...      NaN    NaN    NaN    NaN     PGIS   \n",
       "2         Philippines      5  ...      NaN    NaN    NaN    NaN     PGIS   \n",
       "3              Greece      8  ...      NaN    NaN    NaN    NaN     PGIS   \n",
       "4               Japan      4  ...      NaN    NaN    NaN    NaN     PGIS   \n",
       "\n",
       "  INT_LOG INT_IDEO INT_MISC INT_ANY related  \n",
       "0       0        0        0       0     NaN  \n",
       "1       0        1        1       1     NaN  \n",
       "2      -9       -9        1       1     NaN  \n",
       "3      -9       -9        1       1     NaN  \n",
       "4      -9       -9        1       1     NaN  \n",
       "\n",
       "[5 rows x 135 columns]"
      ]
     },
     "execution_count": 2,
     "metadata": {},
     "output_type": "execute_result"
    }
   ],
   "source": [
    "data = pd.read_csv(\"C:\\\\Users\\\\91912\\\\Desktop\\\\LGM\\\\global terrorism.csv\",dtype = 'unicode',encoding ='latin1')\n",
    "data.head()"
   ]
  },
  {
   "cell_type": "code",
   "execution_count": 3,
   "metadata": {},
   "outputs": [
    {
     "data": {
      "text/html": [
       "<div>\n",
       "<style scoped>\n",
       "    .dataframe tbody tr th:only-of-type {\n",
       "        vertical-align: middle;\n",
       "    }\n",
       "\n",
       "    .dataframe tbody tr th {\n",
       "        vertical-align: top;\n",
       "    }\n",
       "\n",
       "    .dataframe thead th {\n",
       "        text-align: right;\n",
       "    }\n",
       "</style>\n",
       "<table border=\"1\" class=\"dataframe\">\n",
       "  <thead>\n",
       "    <tr style=\"text-align: right;\">\n",
       "      <th></th>\n",
       "      <th>eventid</th>\n",
       "      <th>iyear</th>\n",
       "      <th>imonth</th>\n",
       "      <th>iday</th>\n",
       "      <th>approxdate</th>\n",
       "      <th>extended</th>\n",
       "      <th>resolution</th>\n",
       "      <th>country</th>\n",
       "      <th>country_txt</th>\n",
       "      <th>region</th>\n",
       "      <th>...</th>\n",
       "      <th>addnotes</th>\n",
       "      <th>scite1</th>\n",
       "      <th>scite2</th>\n",
       "      <th>scite3</th>\n",
       "      <th>dbsource</th>\n",
       "      <th>INT_LOG</th>\n",
       "      <th>INT_IDEO</th>\n",
       "      <th>INT_MISC</th>\n",
       "      <th>INT_ANY</th>\n",
       "      <th>related</th>\n",
       "    </tr>\n",
       "  </thead>\n",
       "  <tbody>\n",
       "    <tr>\n",
       "      <th>181686</th>\n",
       "      <td>201712310022</td>\n",
       "      <td>2017</td>\n",
       "      <td>12</td>\n",
       "      <td>31</td>\n",
       "      <td>NaN</td>\n",
       "      <td>0</td>\n",
       "      <td>NaN</td>\n",
       "      <td>182</td>\n",
       "      <td>Somalia</td>\n",
       "      <td>11</td>\n",
       "      <td>...</td>\n",
       "      <td>NaN</td>\n",
       "      <td>\"Somalia: Al-Shabaab Militants Attack Army Che...</td>\n",
       "      <td>\"Highlights: Somalia Daily Media Highlights 2 ...</td>\n",
       "      <td>\"Highlights: Somalia Daily Media Highlights 1 ...</td>\n",
       "      <td>START Primary Collection</td>\n",
       "      <td>0</td>\n",
       "      <td>0</td>\n",
       "      <td>0</td>\n",
       "      <td>0</td>\n",
       "      <td>NaN</td>\n",
       "    </tr>\n",
       "    <tr>\n",
       "      <th>181687</th>\n",
       "      <td>201712310029</td>\n",
       "      <td>2017</td>\n",
       "      <td>12</td>\n",
       "      <td>31</td>\n",
       "      <td>NaN</td>\n",
       "      <td>0</td>\n",
       "      <td>NaN</td>\n",
       "      <td>200</td>\n",
       "      <td>Syria</td>\n",
       "      <td>10</td>\n",
       "      <td>...</td>\n",
       "      <td>NaN</td>\n",
       "      <td>\"Putin's 'victory' in Syria has turned into a ...</td>\n",
       "      <td>\"Two Russian soldiers killed at Hmeymim base i...</td>\n",
       "      <td>\"Two Russian servicemen killed in Syria mortar...</td>\n",
       "      <td>START Primary Collection</td>\n",
       "      <td>-9</td>\n",
       "      <td>-9</td>\n",
       "      <td>1</td>\n",
       "      <td>1</td>\n",
       "      <td>NaN</td>\n",
       "    </tr>\n",
       "    <tr>\n",
       "      <th>181688</th>\n",
       "      <td>201712310030</td>\n",
       "      <td>2017</td>\n",
       "      <td>12</td>\n",
       "      <td>31</td>\n",
       "      <td>NaN</td>\n",
       "      <td>0</td>\n",
       "      <td>NaN</td>\n",
       "      <td>160</td>\n",
       "      <td>Philippines</td>\n",
       "      <td>5</td>\n",
       "      <td>...</td>\n",
       "      <td>NaN</td>\n",
       "      <td>\"Maguindanao clashes trap tribe members,\" Phil...</td>\n",
       "      <td>NaN</td>\n",
       "      <td>NaN</td>\n",
       "      <td>START Primary Collection</td>\n",
       "      <td>0</td>\n",
       "      <td>0</td>\n",
       "      <td>0</td>\n",
       "      <td>0</td>\n",
       "      <td>NaN</td>\n",
       "    </tr>\n",
       "    <tr>\n",
       "      <th>181689</th>\n",
       "      <td>201712310031</td>\n",
       "      <td>2017</td>\n",
       "      <td>12</td>\n",
       "      <td>31</td>\n",
       "      <td>NaN</td>\n",
       "      <td>0</td>\n",
       "      <td>NaN</td>\n",
       "      <td>92</td>\n",
       "      <td>India</td>\n",
       "      <td>6</td>\n",
       "      <td>...</td>\n",
       "      <td>NaN</td>\n",
       "      <td>\"Trader escapes grenade attack in Imphal,\" Bus...</td>\n",
       "      <td>NaN</td>\n",
       "      <td>NaN</td>\n",
       "      <td>START Primary Collection</td>\n",
       "      <td>-9</td>\n",
       "      <td>-9</td>\n",
       "      <td>0</td>\n",
       "      <td>-9</td>\n",
       "      <td>NaN</td>\n",
       "    </tr>\n",
       "    <tr>\n",
       "      <th>181690</th>\n",
       "      <td>201712310032</td>\n",
       "      <td>2017</td>\n",
       "      <td>12</td>\n",
       "      <td>31</td>\n",
       "      <td>NaN</td>\n",
       "      <td>0</td>\n",
       "      <td>NaN</td>\n",
       "      <td>160</td>\n",
       "      <td>Philippines</td>\n",
       "      <td>5</td>\n",
       "      <td>...</td>\n",
       "      <td>NaN</td>\n",
       "      <td>\"Security tightened in Cotabato following IED ...</td>\n",
       "      <td>\"Security tightened in Cotabato City,\" Manila ...</td>\n",
       "      <td>NaN</td>\n",
       "      <td>START Primary Collection</td>\n",
       "      <td>-9</td>\n",
       "      <td>-9</td>\n",
       "      <td>0</td>\n",
       "      <td>-9</td>\n",
       "      <td>NaN</td>\n",
       "    </tr>\n",
       "  </tbody>\n",
       "</table>\n",
       "<p>5 rows × 135 columns</p>\n",
       "</div>"
      ],
      "text/plain": [
       "             eventid iyear imonth iday approxdate extended resolution country  \\\n",
       "181686  201712310022  2017     12   31        NaN        0        NaN     182   \n",
       "181687  201712310029  2017     12   31        NaN        0        NaN     200   \n",
       "181688  201712310030  2017     12   31        NaN        0        NaN     160   \n",
       "181689  201712310031  2017     12   31        NaN        0        NaN      92   \n",
       "181690  201712310032  2017     12   31        NaN        0        NaN     160   \n",
       "\n",
       "        country_txt region  ... addnotes  \\\n",
       "181686      Somalia     11  ...      NaN   \n",
       "181687        Syria     10  ...      NaN   \n",
       "181688  Philippines      5  ...      NaN   \n",
       "181689        India      6  ...      NaN   \n",
       "181690  Philippines      5  ...      NaN   \n",
       "\n",
       "                                                   scite1  \\\n",
       "181686  \"Somalia: Al-Shabaab Militants Attack Army Che...   \n",
       "181687  \"Putin's 'victory' in Syria has turned into a ...   \n",
       "181688  \"Maguindanao clashes trap tribe members,\" Phil...   \n",
       "181689  \"Trader escapes grenade attack in Imphal,\" Bus...   \n",
       "181690  \"Security tightened in Cotabato following IED ...   \n",
       "\n",
       "                                                   scite2  \\\n",
       "181686  \"Highlights: Somalia Daily Media Highlights 2 ...   \n",
       "181687  \"Two Russian soldiers killed at Hmeymim base i...   \n",
       "181688                                                NaN   \n",
       "181689                                                NaN   \n",
       "181690  \"Security tightened in Cotabato City,\" Manila ...   \n",
       "\n",
       "                                                   scite3  \\\n",
       "181686  \"Highlights: Somalia Daily Media Highlights 1 ...   \n",
       "181687  \"Two Russian servicemen killed in Syria mortar...   \n",
       "181688                                                NaN   \n",
       "181689                                                NaN   \n",
       "181690                                                NaN   \n",
       "\n",
       "                        dbsource INT_LOG INT_IDEO INT_MISC INT_ANY related  \n",
       "181686  START Primary Collection       0        0        0       0     NaN  \n",
       "181687  START Primary Collection      -9       -9        1       1     NaN  \n",
       "181688  START Primary Collection       0        0        0       0     NaN  \n",
       "181689  START Primary Collection      -9       -9        0      -9     NaN  \n",
       "181690  START Primary Collection      -9       -9        0      -9     NaN  \n",
       "\n",
       "[5 rows x 135 columns]"
      ]
     },
     "execution_count": 3,
     "metadata": {},
     "output_type": "execute_result"
    }
   ],
   "source": [
    "data.tail()"
   ]
  },
  {
   "cell_type": "code",
   "execution_count": 4,
   "metadata": {},
   "outputs": [
    {
     "data": {
      "text/plain": [
       "array(['eventid', 'iyear', 'imonth', 'iday', 'approxdate', 'extended',\n",
       "       'resolution', 'country', 'country_txt', 'region', 'region_txt',\n",
       "       'provstate', 'city', 'latitude', 'longitude', 'specificity',\n",
       "       'vicinity', 'location', 'summary', 'crit1', 'crit2', 'crit3',\n",
       "       'doubtterr', 'alternative', 'alternative_txt', 'multiple',\n",
       "       'success', 'suicide', 'attacktype1', 'attacktype1_txt',\n",
       "       'attacktype2', 'attacktype2_txt', 'attacktype3', 'attacktype3_txt',\n",
       "       'targtype1', 'targtype1_txt', 'targsubtype1', 'targsubtype1_txt',\n",
       "       'corp1', 'target1', 'natlty1', 'natlty1_txt', 'targtype2',\n",
       "       'targtype2_txt', 'targsubtype2', 'targsubtype2_txt', 'corp2',\n",
       "       'target2', 'natlty2', 'natlty2_txt', 'targtype3', 'targtype3_txt',\n",
       "       'targsubtype3', 'targsubtype3_txt', 'corp3', 'target3', 'natlty3',\n",
       "       'natlty3_txt', 'gname', 'gsubname', 'gname2', 'gsubname2',\n",
       "       'gname3', 'gsubname3', 'motive', 'guncertain1', 'guncertain2',\n",
       "       'guncertain3', 'individual', 'nperps', 'nperpcap', 'claimed',\n",
       "       'claimmode', 'claimmode_txt', 'claim2', 'claimmode2',\n",
       "       'claimmode2_txt', 'claim3', 'claimmode3', 'claimmode3_txt',\n",
       "       'compclaim', 'weaptype1', 'weaptype1_txt', 'weapsubtype1',\n",
       "       'weapsubtype1_txt', 'weaptype2', 'weaptype2_txt', 'weapsubtype2',\n",
       "       'weapsubtype2_txt', 'weaptype3', 'weaptype3_txt', 'weapsubtype3',\n",
       "       'weapsubtype3_txt', 'weaptype4', 'weaptype4_txt', 'weapsubtype4',\n",
       "       'weapsubtype4_txt', 'weapdetail', 'nkill', 'nkillus', 'nkillter',\n",
       "       'nwound', 'nwoundus', 'nwoundte', 'property', 'propextent',\n",
       "       'propextent_txt', 'propvalue', 'propcomment', 'ishostkid',\n",
       "       'nhostkid', 'nhostkidus', 'nhours', 'ndays', 'divert',\n",
       "       'kidhijcountry', 'ransom', 'ransomamt', 'ransomamtus',\n",
       "       'ransompaid', 'ransompaidus', 'ransomnote', 'hostkidoutcome',\n",
       "       'hostkidoutcome_txt', 'nreleased', 'addnotes', 'scite1', 'scite2',\n",
       "       'scite3', 'dbsource', 'INT_LOG', 'INT_IDEO', 'INT_MISC', 'INT_ANY',\n",
       "       'related'], dtype=object)"
      ]
     },
     "execution_count": 4,
     "metadata": {},
     "output_type": "execute_result"
    }
   ],
   "source": [
    "data.columns.values"
   ]
  },
  {
   "cell_type": "code",
   "execution_count": 5,
   "metadata": {},
   "outputs": [
    {
     "data": {
      "text/plain": [
       "(181691, 135)"
      ]
     },
     "execution_count": 5,
     "metadata": {},
     "output_type": "execute_result"
    }
   ],
   "source": [
    "data.shape"
   ]
  },
  {
   "cell_type": "code",
   "execution_count": 6,
   "metadata": {},
   "outputs": [
    {
     "name": "stdout",
     "output_type": "stream",
     "text": [
      "<class 'pandas.core.frame.DataFrame'>\n",
      "RangeIndex: 181691 entries, 0 to 181690\n",
      "Columns: 135 entries, eventid to related\n",
      "dtypes: object(135)\n",
      "memory usage: 187.1+ MB\n"
     ]
    }
   ],
   "source": [
    "data.info()"
   ]
  },
  {
   "cell_type": "code",
   "execution_count": 7,
   "metadata": {},
   "outputs": [
    {
     "data": {
      "text/html": [
       "<div>\n",
       "<style scoped>\n",
       "    .dataframe tbody tr th:only-of-type {\n",
       "        vertical-align: middle;\n",
       "    }\n",
       "\n",
       "    .dataframe tbody tr th {\n",
       "        vertical-align: top;\n",
       "    }\n",
       "\n",
       "    .dataframe thead th {\n",
       "        text-align: right;\n",
       "    }\n",
       "</style>\n",
       "<table border=\"1\" class=\"dataframe\">\n",
       "  <thead>\n",
       "    <tr style=\"text-align: right;\">\n",
       "      <th></th>\n",
       "      <th>eventid</th>\n",
       "      <th>iyear</th>\n",
       "      <th>imonth</th>\n",
       "      <th>iday</th>\n",
       "      <th>approxdate</th>\n",
       "      <th>extended</th>\n",
       "      <th>resolution</th>\n",
       "      <th>country</th>\n",
       "      <th>country_txt</th>\n",
       "      <th>region</th>\n",
       "      <th>...</th>\n",
       "      <th>addnotes</th>\n",
       "      <th>scite1</th>\n",
       "      <th>scite2</th>\n",
       "      <th>scite3</th>\n",
       "      <th>dbsource</th>\n",
       "      <th>INT_LOG</th>\n",
       "      <th>INT_IDEO</th>\n",
       "      <th>INT_MISC</th>\n",
       "      <th>INT_ANY</th>\n",
       "      <th>related</th>\n",
       "    </tr>\n",
       "  </thead>\n",
       "  <tbody>\n",
       "    <tr>\n",
       "      <th>count</th>\n",
       "      <td>181691</td>\n",
       "      <td>181691</td>\n",
       "      <td>181691</td>\n",
       "      <td>181691</td>\n",
       "      <td>9239</td>\n",
       "      <td>181691</td>\n",
       "      <td>2220</td>\n",
       "      <td>181691</td>\n",
       "      <td>181691</td>\n",
       "      <td>181691</td>\n",
       "      <td>...</td>\n",
       "      <td>28289</td>\n",
       "      <td>115500</td>\n",
       "      <td>76933</td>\n",
       "      <td>43516</td>\n",
       "      <td>181691</td>\n",
       "      <td>181691</td>\n",
       "      <td>181691</td>\n",
       "      <td>181691</td>\n",
       "      <td>181691</td>\n",
       "      <td>25038</td>\n",
       "    </tr>\n",
       "    <tr>\n",
       "      <th>unique</th>\n",
       "      <td>181691</td>\n",
       "      <td>47</td>\n",
       "      <td>13</td>\n",
       "      <td>32</td>\n",
       "      <td>2244</td>\n",
       "      <td>2</td>\n",
       "      <td>1859</td>\n",
       "      <td>205</td>\n",
       "      <td>205</td>\n",
       "      <td>12</td>\n",
       "      <td>...</td>\n",
       "      <td>15429</td>\n",
       "      <td>83988</td>\n",
       "      <td>62263</td>\n",
       "      <td>36090</td>\n",
       "      <td>26</td>\n",
       "      <td>3</td>\n",
       "      <td>3</td>\n",
       "      <td>3</td>\n",
       "      <td>3</td>\n",
       "      <td>14306</td>\n",
       "    </tr>\n",
       "    <tr>\n",
       "      <th>top</th>\n",
       "      <td>198408250010</td>\n",
       "      <td>2014</td>\n",
       "      <td>5</td>\n",
       "      <td>15</td>\n",
       "      <td>September 18-24, 2016</td>\n",
       "      <td>0</td>\n",
       "      <td>8/4/1998</td>\n",
       "      <td>95</td>\n",
       "      <td>Iraq</td>\n",
       "      <td>10</td>\n",
       "      <td>...</td>\n",
       "      <td>Casualty numbers for this incident conflict ac...</td>\n",
       "      <td>Committee on Government Operations United Stat...</td>\n",
       "      <td>Christopher Hewitt, \"Political Violence and Te...</td>\n",
       "      <td>Christopher Hewitt, \"Political Violence and Te...</td>\n",
       "      <td>START Primary Collection</td>\n",
       "      <td>-9</td>\n",
       "      <td>-9</td>\n",
       "      <td>0</td>\n",
       "      <td>-9</td>\n",
       "      <td>201612010023, 201612010024, 201612010025, 2016...</td>\n",
       "    </tr>\n",
       "    <tr>\n",
       "      <th>freq</th>\n",
       "      <td>1</td>\n",
       "      <td>16903</td>\n",
       "      <td>16875</td>\n",
       "      <td>6500</td>\n",
       "      <td>101</td>\n",
       "      <td>173452</td>\n",
       "      <td>18</td>\n",
       "      <td>24636</td>\n",
       "      <td>24636</td>\n",
       "      <td>50474</td>\n",
       "      <td>...</td>\n",
       "      <td>1607</td>\n",
       "      <td>205</td>\n",
       "      <td>134</td>\n",
       "      <td>139</td>\n",
       "      <td>78002</td>\n",
       "      <td>92527</td>\n",
       "      <td>92659</td>\n",
       "      <td>160467</td>\n",
       "      <td>83830</td>\n",
       "      <td>80</td>\n",
       "    </tr>\n",
       "  </tbody>\n",
       "</table>\n",
       "<p>4 rows × 135 columns</p>\n",
       "</div>"
      ],
      "text/plain": [
       "             eventid   iyear  imonth    iday             approxdate extended  \\\n",
       "count         181691  181691  181691  181691                   9239   181691   \n",
       "unique        181691      47      13      32                   2244        2   \n",
       "top     198408250010    2014       5      15  September 18-24, 2016        0   \n",
       "freq               1   16903   16875    6500                    101   173452   \n",
       "\n",
       "       resolution country country_txt  region  ...  \\\n",
       "count        2220  181691      181691  181691  ...   \n",
       "unique       1859     205         205      12  ...   \n",
       "top      8/4/1998      95        Iraq      10  ...   \n",
       "freq           18   24636       24636   50474  ...   \n",
       "\n",
       "                                                 addnotes  \\\n",
       "count                                               28289   \n",
       "unique                                              15429   \n",
       "top     Casualty numbers for this incident conflict ac...   \n",
       "freq                                                 1607   \n",
       "\n",
       "                                                   scite1  \\\n",
       "count                                              115500   \n",
       "unique                                              83988   \n",
       "top     Committee on Government Operations United Stat...   \n",
       "freq                                                  205   \n",
       "\n",
       "                                                   scite2  \\\n",
       "count                                               76933   \n",
       "unique                                              62263   \n",
       "top     Christopher Hewitt, \"Political Violence and Te...   \n",
       "freq                                                  134   \n",
       "\n",
       "                                                   scite3  \\\n",
       "count                                               43516   \n",
       "unique                                              36090   \n",
       "top     Christopher Hewitt, \"Political Violence and Te...   \n",
       "freq                                                  139   \n",
       "\n",
       "                        dbsource INT_LOG INT_IDEO INT_MISC INT_ANY  \\\n",
       "count                     181691  181691   181691   181691  181691   \n",
       "unique                        26       3        3        3       3   \n",
       "top     START Primary Collection      -9       -9        0      -9   \n",
       "freq                       78002   92527    92659   160467   83830   \n",
       "\n",
       "                                                  related  \n",
       "count                                               25038  \n",
       "unique                                              14306  \n",
       "top     201612010023, 201612010024, 201612010025, 2016...  \n",
       "freq                                                   80  \n",
       "\n",
       "[4 rows x 135 columns]"
      ]
     },
     "execution_count": 7,
     "metadata": {},
     "output_type": "execute_result"
    }
   ],
   "source": [
    "data.describe()"
   ]
  },
  {
   "cell_type": "markdown",
   "metadata": {},
   "source": [
    "# FINDING NULL VALUES"
   ]
  },
  {
   "cell_type": "code",
   "execution_count": 8,
   "metadata": {},
   "outputs": [
    {
     "data": {
      "text/plain": [
       "eventid            0\n",
       "iyear              0\n",
       "imonth             0\n",
       "iday               0\n",
       "approxdate    172452\n",
       "               ...  \n",
       "INT_LOG            0\n",
       "INT_IDEO           0\n",
       "INT_MISC           0\n",
       "INT_ANY            0\n",
       "related       156653\n",
       "Length: 135, dtype: int64"
      ]
     },
     "execution_count": 8,
     "metadata": {},
     "output_type": "execute_result"
    }
   ],
   "source": [
    "data.isnull().sum()"
   ]
  },
  {
   "cell_type": "markdown",
   "metadata": {},
   "source": [
    "## TOP 5 COUNTRIES WITH MOST TERRORIST ATTACKS\n"
   ]
  },
  {
   "cell_type": "code",
   "execution_count": 9,
   "metadata": {},
   "outputs": [
    {
     "name": "stdout",
     "output_type": "stream",
     "text": [
      "Iraq           24636\n",
      "Pakistan       14368\n",
      "Afghanistan    12731\n",
      "India          11960\n",
      "Colombia        8306\n",
      "Name: country_txt, dtype: int64\n"
     ]
    }
   ],
   "source": [
    "print(data['country_txt'].value_counts().head(5))"
   ]
  },
  {
   "cell_type": "markdown",
   "metadata": {},
   "source": [
    "## PLOTTING THE SAME IN A BAR GRAPH\n"
   ]
  },
  {
   "cell_type": "code",
   "execution_count": 10,
   "metadata": {},
   "outputs": [
    {
     "data": {
      "image/png": "[encoded data removed]",
      "text/plain": [
       "<Figure size 720x360 with 1 Axes>"
      ]
     },
     "metadata": {
      "needs_background": "light"
     },
     "output_type": "display_data"
    }
   ],
   "source": [
    "plt.figure(figsize = (10,5))\n",
    "sns.barplot(data['country_txt'].value_counts()[:5].index,data['country_txt'].value_counts()[:5].values)\n",
    "plt.xlabel('Countries')\n",
    "plt.ylabel('Count')\n",
    "plt.xticks(rotation=90)\n",
    "plt.show()"
   ]
  },
  {
   "cell_type": "markdown",
   "metadata": {},
   "source": [
    "## IRAQ IS THE MOST AFFECTED COUNTRY WITH TERRORIST ATTACKS"
   ]
  },
  {
   "cell_type": "markdown",
   "metadata": {},
   "source": [
    "## TOP 5 REGIONS WITH MOST TERRORIST ATTACKS\n"
   ]
  },
  {
   "cell_type": "code",
   "execution_count": 11,
   "metadata": {},
   "outputs": [
    {
     "name": "stdout",
     "output_type": "stream",
     "text": [
      "Middle East & North Africa    50474\n",
      "South Asia                    44974\n",
      "South America                 18978\n",
      "Sub-Saharan Africa            17550\n",
      "Western Europe                16639\n",
      "Name: region_txt, dtype: int64\n"
     ]
    }
   ],
   "source": [
    "print(data['region_txt'].value_counts().head(5))"
   ]
  },
  {
   "cell_type": "markdown",
   "metadata": {},
   "source": [
    "## PLOTTING THE SAME IN A BAR GRAPH\n"
   ]
  },
  {
   "cell_type": "code",
   "execution_count": 12,
   "metadata": {},
   "outputs": [
    {
     "data": {
      "image/png": "[encoded data removed]",
      "text/plain": [
       "<Figure size 720x360 with 1 Axes>"
      ]
     },
     "metadata": {
      "needs_background": "light"
     },
     "output_type": "display_data"
    }
   ],
   "source": [
    "plt.figure(figsize = (10,5))\n",
    "sns.barplot(data['region_txt'].value_counts()[:5].index,data['region_txt'].value_counts()[:5].values)\n",
    "plt.xlabel('Region')\n",
    "plt.ylabel('Count')\n",
    "plt.xticks(rotation=90)\n",
    "plt.show()"
   ]
  },
  {
   "cell_type": "markdown",
   "metadata": {},
   "source": [
    "## MIDDLE EAST AND NORTH AFRICA IS THE REGION WITH MOST TERRORIST ATTACKS FOLLOWED BY SOUTH ASIA"
   ]
  },
  {
   "cell_type": "markdown",
   "metadata": {},
   "source": [
    "## TOP 5 CITIES WITH MOST TERRORIST ATTACKS\n"
   ]
  },
  {
   "cell_type": "code",
   "execution_count": 13,
   "metadata": {},
   "outputs": [
    {
     "name": "stdout",
     "output_type": "stream",
     "text": [
      "Unknown    9775\n",
      "Baghdad    7589\n",
      "Karachi    2652\n",
      "Lima       2359\n",
      "Mosul      2265\n",
      "Name: city, dtype: int64\n"
     ]
    }
   ],
   "source": [
    "print(data['city'].value_counts().head(5))"
   ]
  },
  {
   "cell_type": "markdown",
   "metadata": {},
   "source": [
    "## PLOTTING THE SAME IN A BAR GRAPH\n"
   ]
  },
  {
   "cell_type": "code",
   "execution_count": 14,
   "metadata": {},
   "outputs": [
    {
     "data": {
      "image/png": "[encoded data removed]",
      "text/plain": [
       "<Figure size 720x360 with 1 Axes>"
      ]
     },
     "metadata": {
      "needs_background": "light"
     },
     "output_type": "display_data"
    }
   ],
   "source": [
    "plt.figure(figsize = (10,5))\n",
    "sns.barplot(data['city'].value_counts()[:5].index,data['city'].value_counts()[:5].values)\n",
    "plt.xlabel('city')\n",
    "plt.ylabel('Count')\n",
    "plt.xticks(rotation=90)\n",
    "plt.show()"
   ]
  },
  {
   "cell_type": "markdown",
   "metadata": {},
   "source": [
    "## BAGHDAD IS THE CITY WITH MOST TERRORIST ATTACKS SINCE FIRST ONE IS UNKNOWN"
   ]
  },
  {
   "cell_type": "markdown",
   "metadata": {},
   "source": [
    "## TOP 5 STATES WITH MOST TERRORIST ATTACKS\n",
    "\n"
   ]
  },
  {
   "cell_type": "code",
   "execution_count": 15,
   "metadata": {},
   "outputs": [
    {
     "name": "stdout",
     "output_type": "stream",
     "text": [
      "Baghdad             7645\n",
      "Northern Ireland    4498\n",
      "Unknown             4290\n",
      "Balochistan         3710\n",
      "Saladin             3411\n",
      "Name: provstate, dtype: int64\n"
     ]
    }
   ],
   "source": [
    "print(data['provstate'].value_counts().head(5))"
   ]
  },
  {
   "cell_type": "markdown",
   "metadata": {},
   "source": [
    "## PLOTTING THE SAME IN A BAR GRAPH\n"
   ]
  },
  {
   "cell_type": "code",
   "execution_count": 16,
   "metadata": {},
   "outputs": [
    {
     "data": {
      "image/png": "[encoded data removed]",
      "text/plain": [
       "<Figure size 720x360 with 1 Axes>"
      ]
     },
     "metadata": {
      "needs_background": "light"
     },
     "output_type": "display_data"
    }
   ],
   "source": [
    "plt.figure(figsize = (10,5))\n",
    "sns.barplot(data['provstate'].value_counts()[:5].index,data['provstate'].value_counts()[:5].values)\n",
    "plt.xlabel('state')\n",
    "plt.ylabel('Count')\n",
    "plt.xticks(rotation=90)\n",
    "plt.show()"
   ]
  },
  {
   "cell_type": "markdown",
   "metadata": {},
   "source": [
    "## BAGHDAD IS THE STATE WITH MOST TERRORIST ATTACKS"
   ]
  },
  {
   "cell_type": "markdown",
   "metadata": {},
   "source": [
    "## YEARS WITH MOST AND LEAST TERRORIST ATTACKS\n"
   ]
  },
  {
   "cell_type": "code",
   "execution_count": 17,
   "metadata": {},
   "outputs": [
    {
     "name": "stdout",
     "output_type": "stream",
     "text": [
      "2014    16903\n",
      "2015    14965\n",
      "2016    13587\n",
      "2013    12036\n",
      "2017    10900\n",
      "2012     8522\n",
      "2011     5076\n",
      "1992     5071\n",
      "2010     4826\n",
      "2008     4805\n",
      "2009     4721\n",
      "1991     4683\n",
      "1989     4324\n",
      "1990     3887\n",
      "1988     3721\n",
      "1984     3495\n",
      "1994     3456\n",
      "2007     3242\n",
      "1997     3197\n",
      "1987     3183\n",
      "1995     3081\n",
      "1996     3058\n",
      "1985     2915\n",
      "1983     2870\n",
      "1986     2860\n",
      "2006     2758\n",
      "1980     2662\n",
      "1979     2662\n",
      "1981     2586\n",
      "1982     2544\n",
      "2005     2017\n",
      "2001     1906\n",
      "2000     1814\n",
      "1978     1526\n",
      "1999     1395\n",
      "2002     1333\n",
      "1977     1319\n",
      "2003     1278\n",
      "2004     1166\n",
      "1998      934\n",
      "1976      923\n",
      "1975      740\n",
      "1970      651\n",
      "1974      581\n",
      "1972      568\n",
      "1973      473\n",
      "1971      471\n",
      "Name: iyear, dtype: int64\n"
     ]
    }
   ],
   "source": [
    "print(data['iyear'].value_counts())"
   ]
  },
  {
   "cell_type": "markdown",
   "metadata": {},
   "source": [
    "## PLOTTING THE SAME IN A BAR GRAPH\n",
    "\n"
   ]
  },
  {
   "cell_type": "code",
   "execution_count": 18,
   "metadata": {},
   "outputs": [
    {
     "data": {
      "image/png": "[encoded data removed]",
      "text/plain": [
       "<Figure size 720x360 with 1 Axes>"
      ]
     },
     "metadata": {
      "needs_background": "light"
     },
     "output_type": "display_data"
    }
   ],
   "source": [
    "plt.figure(figsize = (10,5))\n",
    "sns.barplot(data['iyear'].value_counts().index,data['iyear'].value_counts().values)\n",
    "plt.xlabel('Year')\n",
    "plt.ylabel('Count')\n",
    "plt.xticks(rotation=90)\n",
    "plt.show()"
   ]
  },
  {
   "cell_type": "markdown",
   "metadata": {},
   "source": [
    "## 2014 IS THE YEAR WITH THE MOST AND 1971 IS THE YEAR WITH LEAST TERRORIST ACTIVITIES"
   ]
  },
  {
   "cell_type": "markdown",
   "metadata": {},
   "source": [
    "## TOP 5 MOST ACTIVE TERRORIST GROUPS\n"
   ]
  },
  {
   "cell_type": "code",
   "execution_count": 19,
   "metadata": {},
   "outputs": [
    {
     "name": "stdout",
     "output_type": "stream",
     "text": [
      "Unknown                                             82782\n",
      "Taliban                                              7478\n",
      "Islamic State of Iraq and the Levant (ISIL)          5613\n",
      "Shining Path (SL)                                    4555\n",
      "Farabundo Marti National Liberation Front (FMLN)     3351\n",
      "Name: gname, dtype: int64\n"
     ]
    }
   ],
   "source": [
    "print(data['gname'].value_counts().head(5))"
   ]
  },
  {
   "cell_type": "markdown",
   "metadata": {},
   "source": [
    "## PLOTTING THE SAME IN A BAR GRAPH\n"
   ]
  },
  {
   "cell_type": "code",
   "execution_count": 20,
   "metadata": {},
   "outputs": [
    {
     "data": {
      "image/png": "[encoded data removed]",
      "text/plain": [
       "<Figure size 720x360 with 1 Axes>"
      ]
     },
     "metadata": {
      "needs_background": "light"
     },
     "output_type": "display_data"
    }
   ],
   "source": [
    "plt.figure(figsize = (10,5))\n",
    "sns.barplot(data['gname'].value_counts()[:5].index,data['gname'].value_counts()[:5].values)\n",
    "plt.xlabel('Terrorist Group')\n",
    "plt.ylabel('Count')\n",
    "plt.xticks(rotation=90)\n",
    "plt.show()"
   ]
  },
  {
   "cell_type": "markdown",
   "metadata": {},
   "source": [
    "## TALIBAN IS THE MOST ACTIVE TERRORIST GROUP SINCE FIRST ONE IS UNKNOWN"
   ]
  },
  {
   "cell_type": "markdown",
   "metadata": {},
   "source": [
    "\n",
    "## TOP 5 MONTHS WITH MOST TERRORIST ATTACKS\n"
   ]
  },
  {
   "cell_type": "code",
   "execution_count": 21,
   "metadata": {},
   "outputs": [
    {
     "name": "stdout",
     "output_type": "stream",
     "text": [
      "5     16875\n",
      "7     16268\n",
      "8     15800\n",
      "10    15563\n",
      "6     15359\n",
      "Name: imonth, dtype: int64\n"
     ]
    }
   ],
   "source": [
    "print(data['imonth'].value_counts().head(5))"
   ]
  },
  {
   "cell_type": "markdown",
   "metadata": {},
   "source": [
    "## PLOTTING THE SAME IN A BAR GRAPH\n"
   ]
  },
  {
   "cell_type": "code",
   "execution_count": 22,
   "metadata": {},
   "outputs": [
    {
     "data": {
      "image/png": "[encoded data removed]",
      "text/plain": [
       "<Figure size 720x360 with 1 Axes>"
      ]
     },
     "metadata": {
      "needs_background": "light"
     },
     "output_type": "display_data"
    }
   ],
   "source": [
    "plt.figure(figsize = (10,5))\n",
    "sns.barplot(data['imonth'].value_counts()[:5].index,data['imonth'].value_counts()[:5].values)\n",
    "plt.xlabel('Month')\n",
    "plt.ylabel('Count')\n",
    "plt.xticks(rotation=90)\n",
    "plt.show()"
   ]
  },
  {
   "cell_type": "markdown",
   "metadata": {},
   "source": [
    "## MOST TERRORIST ATTACKS TOOK PLACE IN THE MONTH OF MAY"
   ]
  },
  {
   "cell_type": "markdown",
   "metadata": {},
   "source": [
    "## TOP 5 METHOD OF TERRORIST ATTACKS\n"
   ]
  },
  {
   "cell_type": "code",
   "execution_count": 23,
   "metadata": {},
   "outputs": [
    {
     "name": "stdout",
     "output_type": "stream",
     "text": [
      "Bombing/Explosion                 88255\n",
      "Armed Assault                     42669\n",
      "Assassination                     19312\n",
      "Hostage Taking (Kidnapping)       11158\n",
      "Facility/Infrastructure Attack    10356\n",
      "Name: attacktype1_txt, dtype: int64\n"
     ]
    }
   ],
   "source": [
    "print(data['attacktype1_txt'].value_counts().head(5))"
   ]
  },
  {
   "cell_type": "markdown",
   "metadata": {},
   "source": [
    "\n",
    "## PLOTTING THE SAME IN A BAR GRAPH\n"
   ]
  },
  {
   "cell_type": "code",
   "execution_count": 24,
   "metadata": {},
   "outputs": [
    {
     "data": {
      "image/png": "[encoded data removed]",
      "text/plain": [
       "<Figure size 720x360 with 1 Axes>"
      ]
     },
     "metadata": {
      "needs_background": "light"
     },
     "output_type": "display_data"
    }
   ],
   "source": [
    "plt.figure(figsize = (10,5))\n",
    "sns.barplot(data['attacktype1_txt'].value_counts()[:5].index,data['attacktype1_txt'].value_counts()[:5].values)\n",
    "plt.xlabel('Attack Type')\n",
    "plt.ylabel('Count')\n",
    "plt.xticks(rotation=90)\n",
    "plt.show()"
   ]
  },
  {
   "cell_type": "markdown",
   "metadata": {},
   "source": [
    "## BOMBING/EXPLOSION IS THE MOST COMMON METHOD USED IN TERRORIST ATTACKS"
   ]
  },
  {
   "cell_type": "markdown",
   "metadata": {},
   "source": [
    "##TOP 5 TARGETS OF TERRORIST ATTACKS\n"
   ]
  },
  {
   "cell_type": "code",
   "execution_count": 25,
   "metadata": {},
   "outputs": [
    {
     "name": "stdout",
     "output_type": "stream",
     "text": [
      "Private Citizens & Property    43511\n",
      "Military                       27984\n",
      "Police                         24506\n",
      "Government (General)           21283\n",
      "Business                       20669\n",
      "Name: targtype1_txt, dtype: int64\n"
     ]
    }
   ],
   "source": [
    "print(data['targtype1_txt'].value_counts().head(5))"
   ]
  },
  {
   "cell_type": "markdown",
   "metadata": {},
   "source": [
    "## PLOTTING THE SAME IN A BAR GRAPH\n"
   ]
  },
  {
   "cell_type": "code",
   "execution_count": 26,
   "metadata": {},
   "outputs": [
    {
     "data": {
      "image/png": "[encoded data removed]",
      "text/plain": [
       "<Figure size 720x360 with 1 Axes>"
      ]
     },
     "metadata": {
      "needs_background": "light"
     },
     "output_type": "display_data"
    }
   ],
   "source": [
    "plt.figure(figsize = (10,5))\n",
    "sns.barplot(data['targtype1_txt'].value_counts()[:5].index,data['targtype1_txt'].value_counts()[:5].values)\n",
    "plt.xlabel('Affected Targets')\n",
    "plt.ylabel('Count')\n",
    "plt.xticks(rotation=90)\n",
    "plt.show()"
   ]
  },
  {
   "cell_type": "markdown",
   "metadata": {},
   "source": [
    "## PRIVATE CITIZENS AND PROPERTY ARE MOST AFFECTED BY TERRORIST ATTACKS FOLLOWED BY MILITARY,POLICE,GENERAL GOVERNMENT AND BUSINESS"
   ]
  },
  {
   "cell_type": "markdown",
   "metadata": {},
   "source": [
    "## TOP 5 WEAPONS USED FOR TERRORIST ATTACKS\n"
   ]
  },
  {
   "cell_type": "code",
   "execution_count": 27,
   "metadata": {},
   "outputs": [
    {
     "name": "stdout",
     "output_type": "stream",
     "text": [
      "Explosives    92426\n",
      "Firearms      58524\n",
      "Unknown       15157\n",
      "Incendiary    11135\n",
      "Melee          3655\n",
      "Name: weaptype1_txt, dtype: int64\n"
     ]
    }
   ],
   "source": [
    "print(data['weaptype1_txt'].value_counts().head(5))"
   ]
  },
  {
   "cell_type": "markdown",
   "metadata": {},
   "source": [
    "## PLOTTING THE SAME IN A BAR GRAPH\n"
   ]
  },
  {
   "cell_type": "code",
   "execution_count": 28,
   "metadata": {},
   "outputs": [
    {
     "data": {
      "image/png": "[encoded data removed]",
      "text/plain": [
       "<Figure size 720x360 with 1 Axes>"
      ]
     },
     "metadata": {
      "needs_background": "light"
     },
     "output_type": "display_data"
    }
   ],
   "source": [
    "plt.figure(figsize = (10,5))\n",
    "sns.barplot(data['weaptype1_txt'].value_counts()[:5].index,data['weaptype1_txt'].value_counts()[:5].values)\n",
    "plt.xlabel('Weapons Used')\n",
    "plt.ylabel('Count')\n",
    "plt.xticks(rotation=90)\n",
    "plt.show()"
   ]
  },
  {
   "cell_type": "markdown",
   "metadata": {},
   "source": [
    "## EXPLOSIVES ARE MOSTLY USED AS WEAPONS FOR TERRORIST ATTACKS"
   ]
  },
  {
   "cell_type": "code",
   "execution_count": 29,
   "metadata": {},
   "outputs": [
    {
     "data": {
      "text/plain": [
       "1    161632\n",
       "0     20059\n",
       "Name: success, dtype: int64"
      ]
     },
     "execution_count": 29,
     "metadata": {},
     "output_type": "execute_result"
    }
   ],
   "source": [
    "data['success'].value_counts()"
   ]
  },
  {
   "cell_type": "markdown",
   "metadata": {},
   "source": [
    "## TERRORISTS ARE SUCCESSFUL 161632 TIMES AND FAILED 20059 IN CONDUCTING TERRORIST ATTACKS"
   ]
  },
  {
   "cell_type": "code",
   "execution_count": 30,
   "metadata": {},
   "outputs": [
    {
     "data": {
      "text/plain": [
       "0    175058\n",
       "1      6633\n",
       "Name: suicide, dtype: int64"
      ]
     },
     "execution_count": 30,
     "metadata": {},
     "output_type": "execute_result"
    }
   ],
   "source": [
    "data['suicide'].value_counts()"
   ]
  },
  {
   "cell_type": "markdown",
   "metadata": {},
   "source": [
    "## 6633 PEOPLE COMMITTED SUICIDE DURING THE ATTACKS"
   ]
  },
  {
   "cell_type": "markdown",
   "metadata": {},
   "source": [
    "# CONCLUSIONS\n",
    "# MOST AFFECTED COUNTRY- IRAQ\n",
    "# MOST AFFECTED STATE- BAGHDAD\n",
    "# MOST AFFECTED CITY- BAGHDAD\n",
    "# MOST AFFECTED REGION- MIDDLE EAST AND NORTH AFRICA\n",
    "# MOST TERRIFIC YEAR- 2014\n",
    "# YEAR WITH LEAST TERRORIST ACTIVITIES- 1971\n",
    "# MOST COMMONLY USED ATTACK TYPE- BOMBING/EXPLOSION\n",
    "# WEAPON USED MOST NUMBER OF TIMES- EXPLOSIVES\n",
    "# MOST ACTIVE TERRORIST GROUP WITH MAXIMUM NUMBER OF ATTACKS- TALIBAN\n",
    "# AFFECTED TARGETS OF TERRORIST ATTACKS - PRIVATE CITIZENS AND PROPERTY ARE MOST AFFECTED BY TERRORIST ATTACKS FOLLOWED BY MILITARY,POLICE,GENERAL GOVERNMENT AND BUSINESS\n",
    "# MONTH WITH MOST ATTACKS- MAY ## THEY WERE SUCCESS MOST NUMBER OF TIMES IN THEIR ATTACKS\n",
    "# HOTZONE OF TERRORISM: IRAQ\n",
    "# THANK YOU"
   ]
  },
  {
   "cell_type": "code",
   "execution_count": null,
   "metadata": {},
   "outputs": [],
   "source": []
  }
 ],
 "metadata": {
  "kernelspec": {
   "display_name": "Python 3",
   "language": "python",
   "name": "python3"
  },
  "language_info": {
   "codemirror_mode": {
    "name": "ipython",
    "version": 3
   },
   "file_extension": ".py",
   "mimetype": "text/x-python",
   "name": "python",
   "nbconvert_exporter": "python",
   "pygments_lexer": "ipython3",
   "version": "3.8.3"
  }
 },
 "nbformat": 4,
 "nbformat_minor": 4
}
